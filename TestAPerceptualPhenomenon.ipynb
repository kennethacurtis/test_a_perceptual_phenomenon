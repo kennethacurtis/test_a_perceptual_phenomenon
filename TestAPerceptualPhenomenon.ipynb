{
 "cells": [
  {
   "cell_type": "markdown",
   "metadata": {},
   "source": [
    "# Analyzing the Stroop Effect\n",
    "\n",
    "The <a href='https://en.wikipedia.org/wiki/Stroop_effect'>**Stroop Effect**</a> is a test that demonstrates the difference in reaction times of a task. In the Stroop task, you are presented with a list of words. Each word displayed has a color. The task of the participant is to say out loud the color of the ink in which the words is printed. The two conditions of this task are a congruent words condition, and an incongruent words condition. The congruent words condition has the color matching the word of that color (<a href='https://en.wikipedia.org/wiki/Stroop_effect'>see wiki for example</a>). The incongruent words are displayed with the colors not matching the word, (<a href='https://en.wikipedia.org/wiki/Stroop_effect'>see wiki for example</a>). Each case is measured by the time it takes to read the word group. The groups are then compared. \n",
    "\n",
    "#### Interference\n",
    "\n",
    "The Stroop Effect experiment demonstrates Interference. Interference occurs when you look at one of the words, you see both its color and its meaning. These two different bits of information begin to confuse the brain, which then causes a conflict, forcing you to make a choice. Our experiences and stored memories has taught us that word meaning is more important than the color a word is written in. Interference occurs when you try to pay attention only to the color. The interference that happens suggests that you are not always in control of what you can pay attention to. This interference is called the ‘Stroop Effect’.\n",
    "\n",
    "To explain this occurrence of interference, J. Ridley Stroop developed these two theories:\n",
    "\n",
    "#### Speed of Processing Theory:\n",
    "The Speed of Processing Theory states that people can read words much faster than they can name colors. \n",
    "\n",
    "#### Selective Attention Theory:\n",
    "In this theory, interference occurs when naming the actual color of the words requires much more attention than reading the test presented to you."
   ]
  },
  {
   "cell_type": "markdown",
   "metadata": {},
   "source": [
    "## Forming A Hypothesis\n",
    "\n",
    "In the next section, I will define the independent and dependent variables, observe an appropriate hypthesis, and determine the best type of statistical test to run for this investigation."
   ]
  },
  {
   "cell_type": "markdown",
   "metadata": {},
   "source": [
    "#### What are the dependent and independent variables?\n",
    "\n",
    "The **independent variable** is the condition of the word, incongruent or congruent. The **dependent variable** is the time it takes to read through the words."
   ]
  },
  {
   "cell_type": "markdown",
   "metadata": {},
   "source": [
    "#### What is the Hypothesis?\n",
    "\n",
    "For this hypothesis, we should ask the question \"Are the congruent and incongruent populations the same? Or do they differ?\". Therefore, the notation is as follows:"
   ]
  },
  {
   "cell_type": "markdown",
   "metadata": {},
   "source": [
    "$$H_0: \\mu_{C} - \\mu_{I} = 0$$\n",
    "$$H_1: \\mu_{C} - \\mu_{I} \\neq 0$$"
   ]
  },
  {
   "cell_type": "markdown",
   "metadata": {},
   "source": [
    "The null of our hypothesis is that $\\mu_{C}$ (congruent mean) minus $ \\mu_{I} $ (incongruent mean) is equal to 0, and the alternative is $\\mu_{C}$ (congruent) minus $ \\mu_{I} $ (incongruent) is not equal to zero."
   ]
  },
  {
   "cell_type": "markdown",
   "metadata": {},
   "source": [
    "# Statistical Analysis"
   ]
  },
  {
   "cell_type": "code",
   "execution_count": 21,
   "metadata": {
    "scrolled": true
   },
   "outputs": [
    {
     "data": {
      "text/html": [
       "<div>\n",
       "<style scoped>\n",
       "    .dataframe tbody tr th:only-of-type {\n",
       "        vertical-align: middle;\n",
       "    }\n",
       "\n",
       "    .dataframe tbody tr th {\n",
       "        vertical-align: top;\n",
       "    }\n",
       "\n",
       "    .dataframe thead th {\n",
       "        text-align: right;\n",
       "    }\n",
       "</style>\n",
       "<table border=\"1\" class=\"dataframe\">\n",
       "  <thead>\n",
       "    <tr style=\"text-align: right;\">\n",
       "      <th></th>\n",
       "      <th>Congruent</th>\n",
       "      <th>Incongruent</th>\n",
       "    </tr>\n",
       "  </thead>\n",
       "  <tbody>\n",
       "    <tr>\n",
       "      <th>0</th>\n",
       "      <td>12.079</td>\n",
       "      <td>19.278</td>\n",
       "    </tr>\n",
       "    <tr>\n",
       "      <th>1</th>\n",
       "      <td>16.791</td>\n",
       "      <td>18.741</td>\n",
       "    </tr>\n",
       "    <tr>\n",
       "      <th>2</th>\n",
       "      <td>9.564</td>\n",
       "      <td>21.214</td>\n",
       "    </tr>\n",
       "    <tr>\n",
       "      <th>3</th>\n",
       "      <td>8.630</td>\n",
       "      <td>15.687</td>\n",
       "    </tr>\n",
       "    <tr>\n",
       "      <th>4</th>\n",
       "      <td>14.669</td>\n",
       "      <td>22.803</td>\n",
       "    </tr>\n",
       "  </tbody>\n",
       "</table>\n",
       "</div>"
      ],
      "text/plain": [
       "   Congruent  Incongruent\n",
       "0     12.079       19.278\n",
       "1     16.791       18.741\n",
       "2      9.564       21.214\n",
       "3      8.630       15.687\n",
       "4     14.669       22.803"
      ]
     },
     "execution_count": 21,
     "metadata": {},
     "output_type": "execute_result"
    }
   ],
   "source": [
    "import pandas as pd\n",
    "import numpy as np\n",
    "import seaborn as sns\n",
    "import matplotlib.pyplot as plt\n",
    "% matplotlib inline\n",
    "\n",
    "df = pd.read_csv('stroopdata.csv')\n",
    "\n",
    "df.head()"
   ]
  },
  {
   "cell_type": "code",
   "execution_count": 22,
   "metadata": {},
   "outputs": [
    {
     "name": "stdout",
     "output_type": "stream",
     "text": [
      "<class 'pandas.core.frame.DataFrame'>\n",
      "RangeIndex: 24 entries, 0 to 23\n",
      "Data columns (total 2 columns):\n",
      "Congruent      24 non-null float64\n",
      "Incongruent    24 non-null float64\n",
      "dtypes: float64(2)\n",
      "memory usage: 464.0 bytes\n"
     ]
    }
   ],
   "source": [
    "df.info()"
   ]
  },
  {
   "cell_type": "code",
   "execution_count": 23,
   "metadata": {},
   "outputs": [
    {
     "data": {
      "text/plain": [
       "(24, 2)"
      ]
     },
     "execution_count": 23,
     "metadata": {},
     "output_type": "execute_result"
    }
   ],
   "source": [
    "df.shape"
   ]
  },
  {
   "cell_type": "markdown",
   "metadata": {},
   "source": [
    "Before we do any statistical tests, we can try to get an idea of the differences between the two groups."
   ]
  },
  {
   "cell_type": "code",
   "execution_count": 24,
   "metadata": {},
   "outputs": [
    {
     "data": {
      "text/plain": [
       "0     -7.199\n",
       "1     -1.950\n",
       "2    -11.650\n",
       "3     -7.057\n",
       "4     -8.134\n",
       "5     -8.640\n",
       "6     -9.880\n",
       "7     -8.407\n",
       "8    -11.361\n",
       "9    -11.802\n",
       "10    -2.196\n",
       "11    -3.346\n",
       "12    -2.437\n",
       "13    -3.401\n",
       "14   -17.055\n",
       "15   -10.028\n",
       "16    -6.644\n",
       "17    -9.790\n",
       "18    -6.081\n",
       "19   -21.919\n",
       "20   -10.950\n",
       "21    -3.727\n",
       "22    -2.348\n",
       "23    -5.153\n",
       "dtype: float64"
      ]
     },
     "execution_count": 24,
     "metadata": {},
     "output_type": "execute_result"
    }
   ],
   "source": [
    "df.Congruent - df.Incongruent"
   ]
  },
  {
   "cell_type": "markdown",
   "metadata": {},
   "source": [
    "With these differences, we can already see that the data in heavily in favor of the Incongruent group. For now, our alternative hypothesis is true."
   ]
  },
  {
   "cell_type": "code",
   "execution_count": 25,
   "metadata": {},
   "outputs": [
    {
     "data": {
      "text/plain": [
       "14.051125000000004"
      ]
     },
     "execution_count": 25,
     "metadata": {},
     "output_type": "execute_result"
    }
   ],
   "source": [
    "# average time for congruent group\n",
    "con_mean = df.Congruent.mean()\n",
    "con_mean"
   ]
  },
  {
   "cell_type": "code",
   "execution_count": 26,
   "metadata": {},
   "outputs": [
    {
     "data": {
      "text/plain": [
       "22.01591666666667"
      ]
     },
     "execution_count": 26,
     "metadata": {},
     "output_type": "execute_result"
    }
   ],
   "source": [
    "# average time for incongruent group\n",
    "incon_mean = df.Incongruent.mean()\n",
    "incon_mean"
   ]
  },
  {
   "cell_type": "code",
   "execution_count": 27,
   "metadata": {},
   "outputs": [
    {
     "data": {
      "text/plain": [
       "7.964791666666665"
      ]
     },
     "execution_count": 27,
     "metadata": {},
     "output_type": "execute_result"
    }
   ],
   "source": [
    "# observed difference between the group means\n",
    "obs_diff = incon_mean - con_mean\n",
    "obs_diff"
   ]
  },
  {
   "cell_type": "code",
   "execution_count": 28,
   "metadata": {},
   "outputs": [],
   "source": [
    "# congruent group to numpy array\n",
    "con_array = np.array(df.Congruent)"
   ]
  },
  {
   "cell_type": "code",
   "execution_count": 29,
   "metadata": {},
   "outputs": [],
   "source": [
    "# incongruent group to numpy array\n",
    "incon_array = np.array(df.Incongruent)"
   ]
  },
  {
   "cell_type": "code",
   "execution_count": 30,
   "metadata": {},
   "outputs": [
    {
     "data": {
      "image/png": "[encoded data removed]",
      "text/plain": [
       "<matplotlib.figure.Figure at 0x25a8054b3c8>"
      ]
     },
     "metadata": {},
     "output_type": "display_data"
    }
   ],
   "source": [
    "# distribution of congruent group\n",
    "plt.hist(con_array);"
   ]
  },
  {
   "cell_type": "code",
   "execution_count": 31,
   "metadata": {},
   "outputs": [
    {
     "data": {
      "image/png": "[encoded data removed]",
      "text/plain": [
       "<matplotlib.figure.Figure at 0x25a805b8898>"
      ]
     },
     "metadata": {},
     "output_type": "display_data"
    }
   ],
   "source": [
    "# distribution of incongruent group\n",
    "plt.hist(incon_array);"
   ]
  },
  {
   "cell_type": "code",
   "execution_count": 32,
   "metadata": {},
   "outputs": [
    {
     "data": {
      "image/png": "[encoded data removed]",
      "text/plain": [
       "<matplotlib.figure.Figure at 0x25a80626278>"
      ]
     },
     "metadata": {},
     "output_type": "display_data"
    }
   ],
   "source": [
    "# relationship between two groups\n",
    "plt.scatter(con_array, incon_array);"
   ]
  },
  {
   "cell_type": "markdown",
   "metadata": {},
   "source": [
    "With this scatter plot we can see that there is a weak relationship between the two groups\n",
    "\n",
    "Below, I will use a method known as boostrapping. This method allows us to treat the dataset as an entire population, and not just 24 entries. No more data is needed to gain an understanding of the parameters. It also allows us to simulate the creation of a sampling distribution."
   ]
  },
  {
   "cell_type": "code",
   "execution_count": 33,
   "metadata": {},
   "outputs": [],
   "source": [
    "#distribution of the difference in means using bootstrap sampling\n",
    "con_incon_diffs = []\n",
    "\n",
    "for _ in range(10000):\n",
    "    bootsample = df.sample(24, replace = True)\n",
    "    boot_incon_mean = bootsample.Incongruent.mean()\n",
    "    boot_con_mean = bootsample.Congruent.mean()\n",
    "    con_incon_diffs.append(boot_incon_mean - boot_con_mean)"
   ]
  },
  {
   "cell_type": "code",
   "execution_count": 34,
   "metadata": {},
   "outputs": [
    {
     "data": {
      "image/png": "[encoded data removed]",
      "text/plain": [
       "<matplotlib.figure.Figure at 0x25a8052a908>"
      ]
     },
     "metadata": {},
     "output_type": "display_data"
    }
   ],
   "source": [
    "plt.hist(con_incon_diffs);"
   ]
  },
  {
   "cell_type": "markdown",
   "metadata": {},
   "source": [
    "The sample distribution for this dataset supports the Central Limit Theorem. With a large enough sample size, the sampling distribution of the mean will be normally distributed."
   ]
  },
  {
   "cell_type": "code",
   "execution_count": 35,
   "metadata": {},
   "outputs": [
    {
     "data": {
      "image/png": "[encoded data removed]",
      "text/plain": [
       "<matplotlib.figure.Figure at 0x25a80302588>"
      ]
     },
     "metadata": {},
     "output_type": "display_data"
    }
   ],
   "source": [
    "# where observed difference lies\n",
    "plt.hist(con_incon_diffs);\n",
    "plt.axvline(obs_diff, color='red');"
   ]
  },
  {
   "cell_type": "markdown",
   "metadata": {},
   "source": [
    "With this graph we can see that the observed mean falls right in the middle of the sample distribution. We can conclude that the observed mean is the true statistic for the difference in the two groups means."
   ]
  },
  {
   "cell_type": "code",
   "execution_count": 36,
   "metadata": {},
   "outputs": [
    {
     "data": {
      "text/plain": [
       "0.4836"
      ]
     },
     "execution_count": 36,
     "metadata": {},
     "output_type": "execute_result"
    }
   ],
   "source": [
    "# p-value of the dataset\n",
    "(np.array(con_incon_diffs)>obs_diff).mean()"
   ]
  },
  {
   "cell_type": "markdown",
   "metadata": {},
   "source": [
    "The value that was calculated above is known as the p-value. The p-value is the probability of observing a statistic (or one more extreme in favor of the alternative) if the null is true. In this case, the probability of observing that congruent and incongruent groups are the same is about 48%. Furthermore, we can conclude that there is no statistical significance between the two groups since the p-value is so high."
   ]
  },
  {
   "cell_type": "markdown",
   "metadata": {},
   "source": [
    "# Statistical Tests"
   ]
  },
  {
   "cell_type": "code",
   "execution_count": 37,
   "metadata": {},
   "outputs": [
    {
     "data": {
      "text/plain": [
       "(6.147840625000001, 9.940926041666659)"
      ]
     },
     "execution_count": 37,
     "metadata": {},
     "output_type": "execute_result"
    }
   ],
   "source": [
    "np.percentile(con_incon_diffs, 2.5), np.percentile(con_incon_diffs, 97.5)"
   ]
  },
  {
   "cell_type": "markdown",
   "metadata": {},
   "source": [
    "With a Type-I error rate of .05 (95% confidence interval), we reject the null hypothesis in favor of the alternative. The two groups are not equal to each other."
   ]
  },
  {
   "cell_type": "markdown",
   "metadata": {},
   "source": [
    "After using a traditional method we can see that our observed difference of 7.96 falls within our 95% confidence interval. With this test we have statistical evidence that the Incongruent group is not the same as the congruent group, and that the incongruent group will take a larger amount of time to complete the test.\n",
    "\n",
    "Lets see what the variance and standard deviation of the original population, and the bootstrapped data"
   ]
  },
  {
   "cell_type": "code",
   "execution_count": 41,
   "metadata": {},
   "outputs": [
    {
     "data": {
      "text/plain": [
       "(12.141152859375003, 3.484415712766633)"
      ]
     },
     "execution_count": 41,
     "metadata": {},
     "output_type": "execute_result"
    }
   ],
   "source": [
    "# original population variance and standard deviation\n",
    "# congruent group\n",
    "np.var(con_array), np.std(con_array)"
   ]
  },
  {
   "cell_type": "code",
   "execution_count": 42,
   "metadata": {},
   "outputs": [
    {
     "data": {
      "text/plain": [
       "(22.05293382638889, 4.696055134513317)"
      ]
     },
     "execution_count": 42,
     "metadata": {},
     "output_type": "execute_result"
    }
   ],
   "source": [
    "#incongruent group\n",
    "np.var(incon_array), np.std(incon_array)"
   ]
  },
  {
   "cell_type": "code",
   "execution_count": 43,
   "metadata": {},
   "outputs": [
    {
     "data": {
      "text/plain": [
       "(0.9395092072147507, 0.9692828313834672)"
      ]
     },
     "execution_count": 43,
     "metadata": {},
     "output_type": "execute_result"
    }
   ],
   "source": [
    "# bootstrap data variance and standard deviation of the difference in means\n",
    "np.var(con_incon_diffs), np.std(con_incon_diffs)"
   ]
  },
  {
   "cell_type": "markdown",
   "metadata": {},
   "source": [
    "In the statistics calculated above, we can see that the bootstrapping method lowered our measure of spread, as well as the average of the squared differences from the mean."
   ]
  },
  {
   "cell_type": "markdown",
   "metadata": {},
   "source": [
    "Below I will use a confidence interval for a t-test since the dataset has these characteristics:\n",
    "* Comparison of two groups\n",
    "* The data for the dependent variable are continuous (quantitative)\n",
    "* The outcome is normally distributed\n",
    "* The two means of the groups are paired together\n",
    "\n",
    "This test will allow us to determine whether there is statistical evidence that the means of the two groups are significantly different."
   ]
  },
  {
   "cell_type": "code",
   "execution_count": 39,
   "metadata": {},
   "outputs": [
    {
     "name": "stderr",
     "output_type": "stream",
     "text": [
      "C:\\Users\\kster\\Anaconda3\\lib\\site-packages\\statsmodels\\compat\\pandas.py:56: FutureWarning: The pandas.core.datetools module is deprecated and will be removed in a future version. Please use the pandas.tseries module instead.\n",
      "  from pandas.core import datetools\n"
     ]
    },
    {
     "data": {
      "text/plain": [
       "(5.504885145169363, 10.424698188163974)"
      ]
     },
     "execution_count": 39,
     "metadata": {},
     "output_type": "execute_result"
    }
   ],
   "source": [
    "import statsmodels.stats.api as sms\n",
    "\n",
    "X1 = df.Incongruent \n",
    "X2 = df.Congruent\n",
    "\n",
    "cm = sms.CompareMeans(sms.DescrStatsW(X1), sms.DescrStatsW(X2))\n",
    "cm.tconfint_diff(usevar='unequal')"
   ]
  },
  {
   "cell_type": "markdown",
   "metadata": {},
   "source": [
    "Our observed difference also falls within the confidence interval of this t-test."
   ]
  },
  {
   "cell_type": "code",
   "execution_count": 40,
   "metadata": {},
   "outputs": [
    {
     "data": {
      "text/html": [
       "<table class=\"simpletable\">\n",
       "<caption>OLS Regression Results</caption>\n",
       "<tr>\n",
       "  <th>Dep. Variable:</th>       <td>Incongruent</td>   <th>  R-squared:         </th> <td>   0.124</td>\n",
       "</tr>\n",
       "<tr>\n",
       "  <th>Model:</th>                   <td>OLS</td>       <th>  Adj. R-squared:    </th> <td>   0.084</td>\n",
       "</tr>\n",
       "<tr>\n",
       "  <th>Method:</th>             <td>Least Squares</td>  <th>  F-statistic:       </th> <td>   3.108</td>\n",
       "</tr>\n",
       "<tr>\n",
       "  <th>Date:</th>             <td>Sun, 13 May 2018</td> <th>  Prob (F-statistic):</th>  <td>0.0918</td> \n",
       "</tr>\n",
       "<tr>\n",
       "  <th>Time:</th>                 <td>13:49:03</td>     <th>  Log-Likelihood:    </th> <td> -69.590</td>\n",
       "</tr>\n",
       "<tr>\n",
       "  <th>No. Observations:</th>      <td>    24</td>      <th>  AIC:               </th> <td>   143.2</td>\n",
       "</tr>\n",
       "<tr>\n",
       "  <th>Df Residuals:</th>          <td>    22</td>      <th>  BIC:               </th> <td>   145.5</td>\n",
       "</tr>\n",
       "<tr>\n",
       "  <th>Df Model:</th>              <td>     1</td>      <th>                     </th>     <td> </td>   \n",
       "</tr>\n",
       "<tr>\n",
       "  <th>Covariance Type:</th>      <td>nonrobust</td>    <th>                     </th>     <td> </td>   \n",
       "</tr>\n",
       "</table>\n",
       "<table class=\"simpletable\">\n",
       "<tr>\n",
       "      <td></td>         <th>coef</th>     <th>std err</th>      <th>t</th>      <th>P>|t|</th>  <th>[0.025</th>    <th>0.975]</th>  \n",
       "</tr>\n",
       "<tr>\n",
       "  <th>intercept</th> <td>   15.3535</td> <td>    3.894</td> <td>    3.943</td> <td> 0.001</td> <td>    7.278</td> <td>   23.429</td>\n",
       "</tr>\n",
       "<tr>\n",
       "  <th>Congruent</th> <td>    0.4742</td> <td>    0.269</td> <td>    1.763</td> <td> 0.092</td> <td>   -0.084</td> <td>    1.032</td>\n",
       "</tr>\n",
       "</table>\n",
       "<table class=\"simpletable\">\n",
       "<tr>\n",
       "  <th>Omnibus:</th>       <td>15.513</td> <th>  Durbin-Watson:     </th> <td>   1.992</td>\n",
       "</tr>\n",
       "<tr>\n",
       "  <th>Prob(Omnibus):</th> <td> 0.000</td> <th>  Jarque-Bera (JB):  </th> <td>  15.580</td>\n",
       "</tr>\n",
       "<tr>\n",
       "  <th>Skew:</th>          <td> 1.593</td> <th>  Prob(JB):          </th> <td>0.000414</td>\n",
       "</tr>\n",
       "<tr>\n",
       "  <th>Kurtosis:</th>      <td> 5.330</td> <th>  Cond. No.          </th> <td>    60.4</td>\n",
       "</tr>\n",
       "</table>"
      ],
      "text/plain": [
       "<class 'statsmodels.iolib.summary.Summary'>\n",
       "\"\"\"\n",
       "                            OLS Regression Results                            \n",
       "==============================================================================\n",
       "Dep. Variable:            Incongruent   R-squared:                       0.124\n",
       "Model:                            OLS   Adj. R-squared:                  0.084\n",
       "Method:                 Least Squares   F-statistic:                     3.108\n",
       "Date:                Sun, 13 May 2018   Prob (F-statistic):             0.0918\n",
       "Time:                        13:49:03   Log-Likelihood:                -69.590\n",
       "No. Observations:                  24   AIC:                             143.2\n",
       "Df Residuals:                      22   BIC:                             145.5\n",
       "Df Model:                           1                                         \n",
       "Covariance Type:            nonrobust                                         \n",
       "==============================================================================\n",
       "                 coef    std err          t      P>|t|      [0.025      0.975]\n",
       "------------------------------------------------------------------------------\n",
       "intercept     15.3535      3.894      3.943      0.001       7.278      23.429\n",
       "Congruent      0.4742      0.269      1.763      0.092      -0.084       1.032\n",
       "==============================================================================\n",
       "Omnibus:                       15.513   Durbin-Watson:                   1.992\n",
       "Prob(Omnibus):                  0.000   Jarque-Bera (JB):               15.580\n",
       "Skew:                           1.593   Prob(JB):                     0.000414\n",
       "Kurtosis:                       5.330   Cond. No.                         60.4\n",
       "==============================================================================\n",
       "\n",
       "Warnings:\n",
       "[1] Standard Errors assume that the covariance matrix of the errors is correctly specified.\n",
       "\"\"\""
      ]
     },
     "execution_count": 40,
     "metadata": {},
     "output_type": "execute_result"
    }
   ],
   "source": [
    "import statsmodels.api as sms;\n",
    "\n",
    "df['intercept'] = 1\n",
    "\n",
    "lm = sms.OLS(df['Incongruent'], df[['intercept', 'Congruent']])\n",
    "results = lm.fit()\n",
    "results.summary()"
   ]
  },
  {
   "cell_type": "markdown",
   "metadata": {},
   "source": [
    "Based on this linear regression model, the predicted amount of seconds for the incongruent group is equal to `15.3535 + .4742x`, x being the amount of seconds in the congruent group. If the amount of seconds for the congruent group were 0, we could predict that the amount of seconds in the incongruent group are 15.3535. Also, for every 1 second increase in the congruent group, we could predict that the amount of seconds for the incongruent group would increase by .4742.\n",
    "\n",
    "The p-values shown in this model indicates that the incongruent group is statistically significant for predicting the congruent group. Also, the R-squared value of 0.124 is really close to zero, indicated that the model is closer to not fitting."
   ]
  },
  {
   "cell_type": "markdown",
   "metadata": {},
   "source": [
    "# Conclusion\n",
    "\n",
    "Based on the statistical analysis, we can reject the null hypothesis. This outcome was not surprising to me because early on we had strong evidence that the two groups were not the same after directly subtracting the two groups in the original dataset. After using bootstrapping to get the distribution of the means, I created a 95% confidence interval (A Type-I Error rate of .05). The observed mean fell within this confidence interval which provided more evidence that the groups are not the same.\n",
    "\n",
    "Furthermore, this investigation supports the **Selective Attention Theory** in which it takes longer for the brain to process the color than just reading the word displayed. The main cause of the effects observed is the phenomenon called **interference**. As discussed above, this occurs when you try to pay attention only to the color of the word. Our brains our trained to first observe the word written rather than the color of the word."
   ]
  },
  {
   "cell_type": "markdown",
   "metadata": {},
   "source": [
    "# Sources\n",
    "\n",
    "* <a href='https://www.verywellmind.com/what-is-the-stroop-effect-2795832'>The Stroop Effect: Naming the Color but Not the Word</a>\n",
    "* <a href='https://en.wikipedia.org/wiki/Stroop_effect'>Wikipedia: Stroop Effect</a>\n",
    "* <a href='http://www2.psychology.uiowa.edu/faculty/mordkoff/GradStats/part%201/I.07%20normal.pdf'>The Assumption(s) of Normality</a>"
   ]
  }
 ],
 "metadata": {
  "kernelspec": {
   "display_name": "Python 3",
   "language": "python",
   "name": "python3"
  },
  "language_info": {
   "codemirror_mode": {
    "name": "ipython",
    "version": 3
   },
   "file_extension": ".py",
   "mimetype": "text/x-python",
   "name": "python",
   "nbconvert_exporter": "python",
   "pygments_lexer": "ipython3",
   "version": "3.6.4"
  }
 },
 "nbformat": 4,
 "nbformat_minor": 2
}
